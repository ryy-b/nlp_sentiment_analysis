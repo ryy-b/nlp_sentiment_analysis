{
 "cells": [
  {
   "cell_type": "code",
   "execution_count": 1,
   "metadata": {},
   "outputs": [],
   "source": [
    "from janome.tokenizer import Tokenizer"
   ]
  },
  {
   "attachments": {},
   "cell_type": "markdown",
   "metadata": {},
   "source": [
    "### 単語分割 (Janome)"
   ]
  },
  {
   "cell_type": "code",
   "execution_count": 2,
   "metadata": {},
   "outputs": [
    {
     "name": "stdout",
     "output_type": "stream",
     "text": [
      "自然\t名詞,形容動詞語幹,*,*,*,*,自然,シゼン,シゼン\n",
      "言語\t名詞,一般,*,*,*,*,言語,ゲンゴ,ゲンゴ\n",
      "処理\t名詞,サ変接続,*,*,*,*,処理,ショリ,ショリ\n",
      "って\t助詞,格助詞,連語,*,*,*,って,ッテ,ッテ\n",
      "難しい\t形容詞,自立,*,*,形容詞・イ段,基本形,難しい,ムズカシイ,ムズカシイ\n",
      "です\t助動詞,*,*,*,特殊・デス,基本形,です,デス,デス\n",
      "よ\t助詞,終助詞,*,*,*,*,よ,ヨ,ヨ\n",
      "ね\t助詞,終助詞,*,*,*,*,ね,ネ,ネ\n",
      "。\t記号,句点,*,*,*,*,。,。,。\n"
     ]
    }
   ],
   "source": [
    "jt = Tokenizer()\n",
    "\n",
    "text = \"自然言語処理って難しいですよね。\"\n",
    "\n",
    "for token in jt.tokenize(text):\n",
    "    print(token)"
   ]
  },
  {
   "cell_type": "code",
   "execution_count": 3,
   "metadata": {},
   "outputs": [
    {
     "name": "stdout",
     "output_type": "stream",
     "text": [
      "自然\n",
      "言語\n",
      "処理\n",
      "って\n",
      "難しい\n",
      "です\n",
      "よ\n",
      "ね\n",
      "。\n"
     ]
    }
   ],
   "source": [
    "# 分割だけしてほしいとき wakati=True\n",
    "for token in jt.tokenize(text, wakati=True):\n",
    "    print(token)"
   ]
  }
 ],
 "metadata": {
  "kernelspec": {
   "display_name": "Python 3 (ipykernel)",
   "language": "python",
   "name": "python3"
  },
  "orig_nbformat": 4,
  "vscode": {
   "interpreter": {
    "hash": "e1067ddd50604a8f027b3c6f84f0fdb6f8ebee03587deee03185af18724be8df"
   }
  }
 },
 "nbformat": 4,
 "nbformat_minor": 2
}
