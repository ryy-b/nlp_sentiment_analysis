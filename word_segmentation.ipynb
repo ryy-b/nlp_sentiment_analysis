{
 "cells": [
  {
   "cell_type": "code",
   "execution_count": 36,
   "metadata": {},
   "outputs": [],
   "source": [
    "from janome.tokenizer import Tokenizer\n",
    "import re"
   ]
  },
  {
   "attachments": {},
   "cell_type": "markdown",
   "metadata": {},
   "source": [
    "### 単語分割 (Janome)"
   ]
  },
  {
   "cell_type": "code",
   "execution_count": 37,
   "metadata": {},
   "outputs": [
    {
     "name": "stdout",
     "output_type": "stream",
     "text": [
      "自\t接頭詞,名詞接続,*,*,*,*,自,ジ,ジ\n",
      " \t記号,空白,*,*,*,*, ,*,*\n",
      "然\t副詞,一般,*,*,*,*,然,シカ,シカ\n",
      "言語\t名詞,一般,*,*,*,*,言語,ゲンゴ,ゲンゴ\n",
      " \t記号,空白,*,*,*,*, ,*,*\n",
      "処理\t名詞,サ変接続,*,*,*,*,処理,ショリ,ショリ\n",
      "って\t助詞,格助詞,連語,*,*,*,って,ッテ,ッテ\n",
      "難しい\t形容詞,自立,*,*,形容詞・イ段,基本形,難しい,ムズカシイ,ムズカシイ\n",
      "で\t助詞,接続助詞,*,*,*,*,で,デ,デ\n",
      " \t記号,空白,*,*,*,*, ,*,*\n",
      "す\t動詞,自立,*,*,サ変・スル,文語基本形,する,ス,ス\n",
      "よ\t助詞,終助詞,*,*,*,*,よ,ヨ,ヨ\n",
      "ね\t助詞,終助詞,*,*,*,*,ね,ネ,ネ\n",
      "。\t記号,句点,*,*,*,*,。,。,。\n"
     ]
    }
   ],
   "source": [
    "jt = Tokenizer()\n",
    "\n",
    "text = \"自 然言語 処理って難しいで すよね。\"\n",
    "\n",
    "for token in jt.tokenize(text):\n",
    "    print(token)"
   ]
  },
  {
   "cell_type": "code",
   "execution_count": 38,
   "metadata": {},
   "outputs": [],
   "source": [
    "def tokenize(text):\n",
    "    jt = Tokenizer()\n",
    "    return [tok for tok in jt.tokenize(text, wakati=True)]"
   ]
  },
  {
   "cell_type": "code",
   "execution_count": 39,
   "metadata": {},
   "outputs": [],
   "source": [
    "def tokenize_new(text):\n",
    "    \n",
    "    # 半角・全角の統一\n",
    "\n",
    "    # 大文字・小文字の統一\n",
    "    text = text.lower()\n",
    "\n",
    "    # 改行、半角スペース、全角スペースを削除 \n",
    "    text = re.sub('\\r', '', text)\n",
    "    text = re.sub('\\n', '', text)\n",
    "    text = re.sub(' ', '', text)\n",
    "    text = re.sub('　', '', text)\n",
    "\n",
    "    # 数字文字の一律「0」化 (タスクによっては、しないらしい)\n",
    "\n",
    "    # 単語分割\n",
    "    text = tokenize(text)\n",
    "\n",
    "    return text"
   ]
  },
  {
   "cell_type": "code",
   "execution_count": 40,
   "metadata": {},
   "outputs": [
    {
     "data": {
      "text/plain": [
       "['自', ' ', '然', '言語', ' ', '処理', 'って', '難しい', 'で', ' ', 'す', 'よ', 'ね', '。']"
      ]
     },
     "execution_count": 40,
     "metadata": {},
     "output_type": "execute_result"
    }
   ],
   "source": [
    "tokenize(text)"
   ]
  },
  {
   "cell_type": "code",
   "execution_count": 41,
   "metadata": {},
   "outputs": [
    {
     "data": {
      "text/plain": [
       "['自然', '言語', '処理', 'って', '難しい', 'です', 'よ', 'ね', '。']"
      ]
     },
     "execution_count": 41,
     "metadata": {},
     "output_type": "execute_result"
    }
   ],
   "source": [
    "tokenize_new(text)"
   ]
  }
 ],
 "metadata": {
  "kernelspec": {
   "display_name": "Python 3 (ipykernel)",
   "language": "python",
   "name": "python3"
  },
  "language_info": {
   "codemirror_mode": {
    "name": "ipython",
    "version": 3
   },
   "file_extension": ".py",
   "mimetype": "text/x-python",
   "name": "python",
   "nbconvert_exporter": "python",
   "pygments_lexer": "ipython3",
   "version": "3.8.16"
  },
  "orig_nbformat": 4,
  "vscode": {
   "interpreter": {
    "hash": "e1067ddd50604a8f027b3c6f84f0fdb6f8ebee03587deee03185af18724be8df"
   }
  }
 },
 "nbformat": 4,
 "nbformat_minor": 2
}
